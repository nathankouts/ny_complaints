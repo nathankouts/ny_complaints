{
 "cells": [
  {
   "cell_type": "markdown",
   "metadata": {},
   "source": [
    "# NY Complaints\n",
    "### AREAS MOST AFFECTED BY THE TOP COMPLAINT TYPE"
   ]
  },
  {
   "cell_type": "code",
   "execution_count": 4,
   "metadata": {
    "scrolled": true
   },
   "outputs": [
    {
     "data": {
      "text/html": [
       "<div>\n",
       "<style scoped>\n",
       "    .dataframe tbody tr th:only-of-type {\n",
       "        vertical-align: middle;\n",
       "    }\n",
       "\n",
       "    .dataframe tbody tr th {\n",
       "        vertical-align: top;\n",
       "    }\n",
       "\n",
       "    .dataframe thead th {\n",
       "        text-align: right;\n",
       "    }\n",
       "</style>\n",
       "<table border=\"1\" class=\"dataframe\">\n",
       "  <thead>\n",
       "    <tr style=\"text-align: right;\">\n",
       "      <th></th>\n",
       "      <th>Unnamed: 0</th>\n",
       "      <th>Unique Key</th>\n",
       "      <th>Created Date</th>\n",
       "      <th>Closed Date</th>\n",
       "      <th>Complaint Type</th>\n",
       "      <th>Location Type</th>\n",
       "      <th>Incident Zip</th>\n",
       "      <th>Incident Address</th>\n",
       "      <th>Street Name</th>\n",
       "      <th>Address Type</th>\n",
       "      <th>City</th>\n",
       "      <th>Status</th>\n",
       "      <th>Resolution Description</th>\n",
       "      <th>Borough</th>\n",
       "      <th>Latitude</th>\n",
       "      <th>Longitude</th>\n",
       "    </tr>\n",
       "  </thead>\n",
       "  <tbody>\n",
       "    <tr>\n",
       "      <th>0</th>\n",
       "      <td>0</td>\n",
       "      <td>45531130</td>\n",
       "      <td>02/02/2020 06:09:17 AM</td>\n",
       "      <td>NaN</td>\n",
       "      <td>HEAT/HOT WATER</td>\n",
       "      <td>RESIDENTIAL BUILDING</td>\n",
       "      <td>10019.0</td>\n",
       "      <td>426 WEST   52 STREET</td>\n",
       "      <td>WEST   52 STREET</td>\n",
       "      <td>ADDRESS</td>\n",
       "      <td>NEW YORK</td>\n",
       "      <td>Open</td>\n",
       "      <td>The following complaint conditions are still o...</td>\n",
       "      <td>MANHATTAN</td>\n",
       "      <td>40.765132</td>\n",
       "      <td>-73.988993</td>\n",
       "    </tr>\n",
       "    <tr>\n",
       "      <th>1</th>\n",
       "      <td>1</td>\n",
       "      <td>45529784</td>\n",
       "      <td>02/02/2020 02:15:24 PM</td>\n",
       "      <td>NaN</td>\n",
       "      <td>UNSANITARY CONDITION</td>\n",
       "      <td>RESIDENTIAL BUILDING</td>\n",
       "      <td>11204.0</td>\n",
       "      <td>1751 67 STREET</td>\n",
       "      <td>67 STREET</td>\n",
       "      <td>ADDRESS</td>\n",
       "      <td>BROOKLYN</td>\n",
       "      <td>Open</td>\n",
       "      <td>The following complaint conditions are still o...</td>\n",
       "      <td>BROOKLYN</td>\n",
       "      <td>40.618484</td>\n",
       "      <td>-73.992673</td>\n",
       "    </tr>\n",
       "    <tr>\n",
       "      <th>2</th>\n",
       "      <td>2</td>\n",
       "      <td>45527528</td>\n",
       "      <td>02/02/2020 02:27:41 AM</td>\n",
       "      <td>NaN</td>\n",
       "      <td>HEAT/HOT WATER</td>\n",
       "      <td>RESIDENTIAL BUILDING</td>\n",
       "      <td>11372.0</td>\n",
       "      <td>87-15 37 AVENUE</td>\n",
       "      <td>37 AVENUE</td>\n",
       "      <td>ADDRESS</td>\n",
       "      <td>Jackson Heights</td>\n",
       "      <td>Open</td>\n",
       "      <td>The following complaint conditions are still o...</td>\n",
       "      <td>QUEENS</td>\n",
       "      <td>40.750269</td>\n",
       "      <td>-73.879432</td>\n",
       "    </tr>\n",
       "    <tr>\n",
       "      <th>3</th>\n",
       "      <td>3</td>\n",
       "      <td>45530329</td>\n",
       "      <td>02/02/2020 12:13:18 PM</td>\n",
       "      <td>NaN</td>\n",
       "      <td>HEAT/HOT WATER</td>\n",
       "      <td>RESIDENTIAL BUILDING</td>\n",
       "      <td>10458.0</td>\n",
       "      <td>2405 SOUTHERN BOULEVARD</td>\n",
       "      <td>SOUTHERN BOULEVARD</td>\n",
       "      <td>ADDRESS</td>\n",
       "      <td>BRONX</td>\n",
       "      <td>Open</td>\n",
       "      <td>The following complaint conditions are still o...</td>\n",
       "      <td>BRONX</td>\n",
       "      <td>40.853773</td>\n",
       "      <td>-73.881558</td>\n",
       "    </tr>\n",
       "    <tr>\n",
       "      <th>4</th>\n",
       "      <td>4</td>\n",
       "      <td>45528814</td>\n",
       "      <td>02/02/2020 01:59:44 PM</td>\n",
       "      <td>NaN</td>\n",
       "      <td>APPLIANCE</td>\n",
       "      <td>RESIDENTIAL BUILDING</td>\n",
       "      <td>11209.0</td>\n",
       "      <td>223 78 STREET</td>\n",
       "      <td>78 STREET</td>\n",
       "      <td>ADDRESS</td>\n",
       "      <td>BROOKLYN</td>\n",
       "      <td>Open</td>\n",
       "      <td>The following complaint conditions are still o...</td>\n",
       "      <td>BROOKLYN</td>\n",
       "      <td>40.629745</td>\n",
       "      <td>-74.030533</td>\n",
       "    </tr>\n",
       "  </tbody>\n",
       "</table>\n",
       "</div>"
      ],
      "text/plain": [
       "   Unnamed: 0  Unique Key            Created Date Closed Date  \\\n",
       "0           0    45531130  02/02/2020 06:09:17 AM         NaN   \n",
       "1           1    45529784  02/02/2020 02:15:24 PM         NaN   \n",
       "2           2    45527528  02/02/2020 02:27:41 AM         NaN   \n",
       "3           3    45530329  02/02/2020 12:13:18 PM         NaN   \n",
       "4           4    45528814  02/02/2020 01:59:44 PM         NaN   \n",
       "\n",
       "         Complaint Type         Location Type  Incident Zip  \\\n",
       "0        HEAT/HOT WATER  RESIDENTIAL BUILDING       10019.0   \n",
       "1  UNSANITARY CONDITION  RESIDENTIAL BUILDING       11204.0   \n",
       "2        HEAT/HOT WATER  RESIDENTIAL BUILDING       11372.0   \n",
       "3        HEAT/HOT WATER  RESIDENTIAL BUILDING       10458.0   \n",
       "4             APPLIANCE  RESIDENTIAL BUILDING       11209.0   \n",
       "\n",
       "          Incident Address         Street Name Address Type             City  \\\n",
       "0     426 WEST   52 STREET    WEST   52 STREET      ADDRESS         NEW YORK   \n",
       "1           1751 67 STREET           67 STREET      ADDRESS         BROOKLYN   \n",
       "2          87-15 37 AVENUE           37 AVENUE      ADDRESS  Jackson Heights   \n",
       "3  2405 SOUTHERN BOULEVARD  SOUTHERN BOULEVARD      ADDRESS            BRONX   \n",
       "4            223 78 STREET           78 STREET      ADDRESS         BROOKLYN   \n",
       "\n",
       "  Status                             Resolution Description    Borough  \\\n",
       "0   Open  The following complaint conditions are still o...  MANHATTAN   \n",
       "1   Open  The following complaint conditions are still o...   BROOKLYN   \n",
       "2   Open  The following complaint conditions are still o...     QUEENS   \n",
       "3   Open  The following complaint conditions are still o...      BRONX   \n",
       "4   Open  The following complaint conditions are still o...   BROOKLYN   \n",
       "\n",
       "    Latitude  Longitude  \n",
       "0  40.765132 -73.988993  \n",
       "1  40.618484 -73.992673  \n",
       "2  40.750269 -73.879432  \n",
       "3  40.853773 -73.881558  \n",
       "4  40.629745 -74.030533  "
      ]
     },
     "execution_count": 4,
     "metadata": {},
     "output_type": "execute_result"
    }
   ],
   "source": [
    "body = client_1698e11815c54ccb97bf5cc3f9799953.get_object(Bucket='capstoneproject-donotdelete-pr-i6h4yx7ce352bc',Key='311_Service_Requests_from_2010_to_Present_min.csv')['Body']\n",
    "# add missing __iter__ method, so pandas accepts body as file-like object\n",
    "if not hasattr(body, \"__iter__\"): body.__iter__ = types.MethodType( __iter__, body )\n",
    "\n",
    "df_data_3 = pd.read_csv(body)\n",
    "df_data_3.head()\n"
   ]
  },
  {
   "cell_type": "code",
   "execution_count": 17,
   "metadata": {},
   "outputs": [
    {
     "data": {
      "text/plain": [
       "Index(['Unique Key', 'Created Date', 'Closed Date', 'Complaint Type',\n",
       "       'Location Type', 'Incident Zip', 'Incident Address', 'Street Name',\n",
       "       'Address Type', 'City', 'Status', 'Resolution Description', 'Borough',\n",
       "       'Latitude', 'Longitude'],\n",
       "      dtype='object')"
      ]
     },
     "execution_count": 17,
     "metadata": {},
     "output_type": "execute_result"
    }
   ],
   "source": [
    "df_data_3.columns"
   ]
  },
  {
   "cell_type": "markdown",
   "metadata": {},
   "source": [
    "## Let's drop some columns that we don't need"
   ]
  },
  {
   "cell_type": "code",
   "execution_count": 18,
   "metadata": {},
   "outputs": [],
   "source": [
    "df_data_3.drop(['Unique Key', 'Resolution Description'], axis=1, inplace=True)"
   ]
  },
  {
   "cell_type": "code",
   "execution_count": 19,
   "metadata": {},
   "outputs": [
    {
     "data": {
      "text/plain": [
       "Index(['Created Date', 'Closed Date', 'Complaint Type', 'Location Type',\n",
       "       'Incident Zip', 'Incident Address', 'Street Name', 'Address Type',\n",
       "       'City', 'Status', 'Borough', 'Latitude', 'Longitude'],\n",
       "      dtype='object')"
      ]
     },
     "execution_count": 19,
     "metadata": {},
     "output_type": "execute_result"
    }
   ],
   "source": [
    "df_data_3.columns"
   ]
  },
  {
   "cell_type": "code",
   "execution_count": 20,
   "metadata": {},
   "outputs": [],
   "source": [
    "df_data_3.drop(['City', 'Location Type'], axis=1, inplace=True)"
   ]
  },
  {
   "cell_type": "code",
   "execution_count": 21,
   "metadata": {},
   "outputs": [
    {
     "data": {
      "text/plain": [
       "Index(['Created Date', 'Closed Date', 'Complaint Type', 'Incident Zip',\n",
       "       'Incident Address', 'Street Name', 'Address Type', 'Status', 'Borough',\n",
       "       'Latitude', 'Longitude'],\n",
       "      dtype='object')"
      ]
     },
     "execution_count": 21,
     "metadata": {},
     "output_type": "execute_result"
    }
   ],
   "source": [
    "df_data_3.columns"
   ]
  },
  {
   "cell_type": "code",
   "execution_count": 22,
   "metadata": {},
   "outputs": [],
   "source": [
    "df_data_3.drop(['Address Type'], axis=1, inplace=True)"
   ]
  },
  {
   "cell_type": "markdown",
   "metadata": {},
   "source": [
    "## Now let's look at the cleaned data"
   ]
  },
  {
   "cell_type": "code",
   "execution_count": 24,
   "metadata": {},
   "outputs": [
    {
     "data": {
      "text/html": [
       "<div>\n",
       "<style scoped>\n",
       "    .dataframe tbody tr th:only-of-type {\n",
       "        vertical-align: middle;\n",
       "    }\n",
       "\n",
       "    .dataframe tbody tr th {\n",
       "        vertical-align: top;\n",
       "    }\n",
       "\n",
       "    .dataframe thead th {\n",
       "        text-align: right;\n",
       "    }\n",
       "</style>\n",
       "<table border=\"1\" class=\"dataframe\">\n",
       "  <thead>\n",
       "    <tr style=\"text-align: right;\">\n",
       "      <th></th>\n",
       "      <th>Created Date</th>\n",
       "      <th>Closed Date</th>\n",
       "      <th>Complaint Type</th>\n",
       "      <th>Incident Zip</th>\n",
       "      <th>Incident Address</th>\n",
       "      <th>Street Name</th>\n",
       "      <th>Status</th>\n",
       "      <th>Borough</th>\n",
       "      <th>Latitude</th>\n",
       "      <th>Longitude</th>\n",
       "    </tr>\n",
       "  </thead>\n",
       "  <tbody>\n",
       "    <tr>\n",
       "      <th>0</th>\n",
       "      <td>02/02/2020 06:09:17 AM</td>\n",
       "      <td>NaN</td>\n",
       "      <td>HEAT/HOT WATER</td>\n",
       "      <td>10019.0</td>\n",
       "      <td>426 WEST   52 STREET</td>\n",
       "      <td>WEST   52 STREET</td>\n",
       "      <td>Open</td>\n",
       "      <td>MANHATTAN</td>\n",
       "      <td>40.765132</td>\n",
       "      <td>-73.988993</td>\n",
       "    </tr>\n",
       "    <tr>\n",
       "      <th>1</th>\n",
       "      <td>02/02/2020 02:15:24 PM</td>\n",
       "      <td>NaN</td>\n",
       "      <td>UNSANITARY CONDITION</td>\n",
       "      <td>11204.0</td>\n",
       "      <td>1751 67 STREET</td>\n",
       "      <td>67 STREET</td>\n",
       "      <td>Open</td>\n",
       "      <td>BROOKLYN</td>\n",
       "      <td>40.618484</td>\n",
       "      <td>-73.992673</td>\n",
       "    </tr>\n",
       "    <tr>\n",
       "      <th>2</th>\n",
       "      <td>02/02/2020 02:27:41 AM</td>\n",
       "      <td>NaN</td>\n",
       "      <td>HEAT/HOT WATER</td>\n",
       "      <td>11372.0</td>\n",
       "      <td>87-15 37 AVENUE</td>\n",
       "      <td>37 AVENUE</td>\n",
       "      <td>Open</td>\n",
       "      <td>QUEENS</td>\n",
       "      <td>40.750269</td>\n",
       "      <td>-73.879432</td>\n",
       "    </tr>\n",
       "    <tr>\n",
       "      <th>3</th>\n",
       "      <td>02/02/2020 12:13:18 PM</td>\n",
       "      <td>NaN</td>\n",
       "      <td>HEAT/HOT WATER</td>\n",
       "      <td>10458.0</td>\n",
       "      <td>2405 SOUTHERN BOULEVARD</td>\n",
       "      <td>SOUTHERN BOULEVARD</td>\n",
       "      <td>Open</td>\n",
       "      <td>BRONX</td>\n",
       "      <td>40.853773</td>\n",
       "      <td>-73.881558</td>\n",
       "    </tr>\n",
       "    <tr>\n",
       "      <th>4</th>\n",
       "      <td>02/02/2020 01:59:44 PM</td>\n",
       "      <td>NaN</td>\n",
       "      <td>APPLIANCE</td>\n",
       "      <td>11209.0</td>\n",
       "      <td>223 78 STREET</td>\n",
       "      <td>78 STREET</td>\n",
       "      <td>Open</td>\n",
       "      <td>BROOKLYN</td>\n",
       "      <td>40.629745</td>\n",
       "      <td>-74.030533</td>\n",
       "    </tr>\n",
       "  </tbody>\n",
       "</table>\n",
       "</div>"
      ],
      "text/plain": [
       "             Created Date Closed Date        Complaint Type  Incident Zip  \\\n",
       "0  02/02/2020 06:09:17 AM         NaN        HEAT/HOT WATER       10019.0   \n",
       "1  02/02/2020 02:15:24 PM         NaN  UNSANITARY CONDITION       11204.0   \n",
       "2  02/02/2020 02:27:41 AM         NaN        HEAT/HOT WATER       11372.0   \n",
       "3  02/02/2020 12:13:18 PM         NaN        HEAT/HOT WATER       10458.0   \n",
       "4  02/02/2020 01:59:44 PM         NaN             APPLIANCE       11209.0   \n",
       "\n",
       "          Incident Address         Street Name Status    Borough   Latitude  \\\n",
       "0     426 WEST   52 STREET    WEST   52 STREET   Open  MANHATTAN  40.765132   \n",
       "1           1751 67 STREET           67 STREET   Open   BROOKLYN  40.618484   \n",
       "2          87-15 37 AVENUE           37 AVENUE   Open     QUEENS  40.750269   \n",
       "3  2405 SOUTHERN BOULEVARD  SOUTHERN BOULEVARD   Open      BRONX  40.853773   \n",
       "4            223 78 STREET           78 STREET   Open   BROOKLYN  40.629745   \n",
       "\n",
       "   Longitude  \n",
       "0 -73.988993  \n",
       "1 -73.992673  \n",
       "2 -73.879432  \n",
       "3 -73.881558  \n",
       "4 -74.030533  "
      ]
     },
     "execution_count": 24,
     "metadata": {},
     "output_type": "execute_result"
    }
   ],
   "source": [
    "df_data_3.head()"
   ]
  },
  {
   "cell_type": "markdown",
   "metadata": {},
   "source": [
    "## Now we are going to see what our value types are"
   ]
  },
  {
   "cell_type": "code",
   "execution_count": 25,
   "metadata": {},
   "outputs": [
    {
     "name": "stdout",
     "output_type": "stream",
     "text": [
      "<class 'pandas.core.frame.DataFrame'>\n",
      "RangeIndex: 6019843 entries, 0 to 6019842\n",
      "Data columns (total 10 columns):\n",
      "Created Date        object\n",
      "Closed Date         object\n",
      "Complaint Type      object\n",
      "Incident Zip        float64\n",
      "Incident Address    object\n",
      "Street Name         object\n",
      "Status              object\n",
      "Borough             object\n",
      "Latitude            float64\n",
      "Longitude           float64\n",
      "dtypes: float64(3), object(7)\n",
      "memory usage: 459.3+ MB\n"
     ]
    }
   ],
   "source": [
    "df_data_3.info()"
   ]
  },
  {
   "cell_type": "markdown",
   "metadata": {},
   "source": [
    "## Now we'll see what the complaint types are"
   ]
  },
  {
   "cell_type": "code",
   "execution_count": 26,
   "metadata": {},
   "outputs": [
    {
     "data": {
      "text/plain": [
       "array(['HEAT/HOT WATER', 'UNSANITARY CONDITION', 'APPLIANCE', 'GENERAL',\n",
       "       'ELECTRIC', 'PLUMBING', 'PAINT/PLASTER', 'WATER LEAK', 'SAFETY',\n",
       "       'DOOR/WINDOW', 'OUTSIDE BUILDING', 'ELEVATOR', 'FLOORING/STAIRS',\n",
       "       'Unsanitary Condition', 'HPD Literature Request', 'HEATING',\n",
       "       'PAINT - PLASTER', 'Safety', 'Electric', 'General', 'Appliance',\n",
       "       'GENERAL CONSTRUCTION', 'NONCONST', 'CONSTRUCTION', 'AGENCY',\n",
       "       'STRUCTURAL', 'VACANT APARTMENT', 'Outside Building', 'Plumbing',\n",
       "       'Mold'], dtype=object)"
      ]
     },
     "execution_count": 26,
     "metadata": {},
     "output_type": "execute_result"
    }
   ],
   "source": [
    "#what are the complaint types\n",
    "df_data_3[\"Complaint Type\"].unique()"
   ]
  },
  {
   "cell_type": "markdown",
   "metadata": {},
   "source": [
    "## The sum of each complaint type"
   ]
  },
  {
   "cell_type": "code",
   "execution_count": 27,
   "metadata": {},
   "outputs": [
    {
     "data": {
      "text/plain": [
       "HEAT/HOT WATER            1261574\n",
       "HEATING                    887850\n",
       "PLUMBING                   711130\n",
       "GENERAL CONSTRUCTION       500863\n",
       "UNSANITARY CONDITION       451643\n",
       "PAINT - PLASTER            361257\n",
       "PAINT/PLASTER              346438\n",
       "ELECTRIC                   307310\n",
       "NONCONST                   260890\n",
       "DOOR/WINDOW                205278\n",
       "WATER LEAK                 193631\n",
       "GENERAL                    151308\n",
       "FLOORING/STAIRS            137402\n",
       "APPLIANCE                  112831\n",
       "HPD Literature Request      52824\n",
       "SAFETY                      51529\n",
       "OUTSIDE BUILDING             7142\n",
       "ELEVATOR                     6725\n",
       "Unsanitary Condition         5499\n",
       "CONSTRUCTION                 5078\n",
       "General                      1163\n",
       "Safety                        424\n",
       "STRUCTURAL                     16\n",
       "Plumbing                       11\n",
       "AGENCY                          9\n",
       "VACANT APARTMENT                6\n",
       "Outside Building                6\n",
       "Appliance                       4\n",
       "Mold                            1\n",
       "Electric                        1\n",
       "Name: Complaint Type, dtype: int64"
      ]
     },
     "execution_count": 27,
     "metadata": {},
     "output_type": "execute_result"
    }
   ],
   "source": [
    "#complaint type counts\n",
    "df_data_3[\"Complaint Type\"].value_counts()"
   ]
  },
  {
   "cell_type": "code",
   "execution_count": 28,
   "metadata": {},
   "outputs": [],
   "source": [
    "import numpy as np\n",
    "df_data_3['Complaint Type'] = np.where(df_data_3['Complaint Type']=='HEATING','HEAT/HOT WATER',df_data_3['Complaint Type'])"
   ]
  },
  {
   "cell_type": "code",
   "execution_count": 29,
   "metadata": {},
   "outputs": [
    {
     "data": {
      "text/plain": [
       "HEAT/HOT WATER            2149424\n",
       "PLUMBING                   711130\n",
       "GENERAL CONSTRUCTION       500863\n",
       "UNSANITARY CONDITION       451643\n",
       "PAINT - PLASTER            361257\n",
       "PAINT/PLASTER              346438\n",
       "ELECTRIC                   307310\n",
       "NONCONST                   260890\n",
       "DOOR/WINDOW                205278\n",
       "WATER LEAK                 193631\n",
       "GENERAL                    151308\n",
       "FLOORING/STAIRS            137402\n",
       "APPLIANCE                  112831\n",
       "HPD Literature Request      52824\n",
       "SAFETY                      51529\n",
       "OUTSIDE BUILDING             7142\n",
       "ELEVATOR                     6725\n",
       "Unsanitary Condition         5499\n",
       "CONSTRUCTION                 5078\n",
       "General                      1163\n",
       "Safety                        424\n",
       "STRUCTURAL                     16\n",
       "Plumbing                       11\n",
       "AGENCY                          9\n",
       "Outside Building                6\n",
       "VACANT APARTMENT                6\n",
       "Appliance                       4\n",
       "Mold                            1\n",
       "Electric                        1\n",
       "Name: Complaint Type, dtype: int64"
      ]
     },
     "execution_count": 29,
     "metadata": {},
     "output_type": "execute_result"
    }
   ],
   "source": [
    "#new complaint type counts\n",
    "df_data_3['Complaint Type'].value_counts()"
   ]
  },
  {
   "cell_type": "code",
   "execution_count": 30,
   "metadata": {},
   "outputs": [
    {
     "data": {
      "text/plain": [
       "<Figure size 1000x600 with 1 Axes>"
      ]
     },
     "metadata": {},
     "output_type": "display_data"
    }
   ],
   "source": [
    "#let's see in a graph\n",
    "import matplotlib.pyplot as plt\n",
    "df_data_3[\"Complaint Type\"].value_counts().plot(kind='bar', figsize=(10, 6))\n",
    "#\n",
    "plt.xlabel('Complaint_Type') # add to x-label to the plot\n",
    "plt.ylabel('Number occurance') # add y-label to the plot\n",
    "plt.title('Complaint Type Graph') # add title to the plot\n",
    "#\n",
    "plt.show()"
   ]
  },
  {
   "cell_type": "code",
   "execution_count": 31,
   "metadata": {},
   "outputs": [],
   "source": [
    "Q2_df = df_data_3[[\"Complaint Type\", \"Borough\", \"Street Name\", \"Incident Zip\"]]"
   ]
  },
  {
   "cell_type": "code",
   "execution_count": 32,
   "metadata": {},
   "outputs": [
    {
     "data": {
      "text/html": [
       "<div>\n",
       "<style scoped>\n",
       "    .dataframe tbody tr th:only-of-type {\n",
       "        vertical-align: middle;\n",
       "    }\n",
       "\n",
       "    .dataframe tbody tr th {\n",
       "        vertical-align: top;\n",
       "    }\n",
       "\n",
       "    .dataframe thead th {\n",
       "        text-align: right;\n",
       "    }\n",
       "</style>\n",
       "<table border=\"1\" class=\"dataframe\">\n",
       "  <thead>\n",
       "    <tr style=\"text-align: right;\">\n",
       "      <th></th>\n",
       "      <th>Complaint Type</th>\n",
       "      <th>Borough</th>\n",
       "      <th>Street Name</th>\n",
       "      <th>Incident Zip</th>\n",
       "    </tr>\n",
       "  </thead>\n",
       "  <tbody>\n",
       "    <tr>\n",
       "      <th>0</th>\n",
       "      <td>HEAT/HOT WATER</td>\n",
       "      <td>MANHATTAN</td>\n",
       "      <td>WEST   52 STREET</td>\n",
       "      <td>10019.0</td>\n",
       "    </tr>\n",
       "    <tr>\n",
       "      <th>1</th>\n",
       "      <td>UNSANITARY CONDITION</td>\n",
       "      <td>BROOKLYN</td>\n",
       "      <td>67 STREET</td>\n",
       "      <td>11204.0</td>\n",
       "    </tr>\n",
       "    <tr>\n",
       "      <th>2</th>\n",
       "      <td>HEAT/HOT WATER</td>\n",
       "      <td>QUEENS</td>\n",
       "      <td>37 AVENUE</td>\n",
       "      <td>11372.0</td>\n",
       "    </tr>\n",
       "    <tr>\n",
       "      <th>3</th>\n",
       "      <td>HEAT/HOT WATER</td>\n",
       "      <td>BRONX</td>\n",
       "      <td>SOUTHERN BOULEVARD</td>\n",
       "      <td>10458.0</td>\n",
       "    </tr>\n",
       "    <tr>\n",
       "      <th>4</th>\n",
       "      <td>APPLIANCE</td>\n",
       "      <td>BROOKLYN</td>\n",
       "      <td>78 STREET</td>\n",
       "      <td>11209.0</td>\n",
       "    </tr>\n",
       "  </tbody>\n",
       "</table>\n",
       "</div>"
      ],
      "text/plain": [
       "         Complaint Type    Borough         Street Name  Incident Zip\n",
       "0        HEAT/HOT WATER  MANHATTAN    WEST   52 STREET       10019.0\n",
       "1  UNSANITARY CONDITION   BROOKLYN           67 STREET       11204.0\n",
       "2        HEAT/HOT WATER     QUEENS           37 AVENUE       11372.0\n",
       "3        HEAT/HOT WATER      BRONX  SOUTHERN BOULEVARD       10458.0\n",
       "4             APPLIANCE   BROOKLYN           78 STREET       11209.0"
      ]
     },
     "execution_count": 32,
     "metadata": {},
     "output_type": "execute_result"
    }
   ],
   "source": [
    "Q2_df.head()"
   ]
  },
  {
   "cell_type": "markdown",
   "metadata": {},
   "source": [
    "## Let's show the columns with no values"
   ]
  },
  {
   "cell_type": "code",
   "execution_count": 33,
   "metadata": {},
   "outputs": [
    {
     "data": {
      "text/plain": [
       "Complaint Type        0\n",
       "Borough               0\n",
       "Street Name       52825\n",
       "Incident Zip      80697\n",
       "dtype: int64"
      ]
     },
     "execution_count": 33,
     "metadata": {},
     "output_type": "execute_result"
    }
   ],
   "source": [
    "Q2_df.isnull().sum()"
   ]
  },
  {
   "cell_type": "code",
   "execution_count": 34,
   "metadata": {},
   "outputs": [
    {
     "name": "stdout",
     "output_type": "stream",
     "text": [
      "<class 'pandas.core.frame.DataFrame'>\n",
      "RangeIndex: 6019843 entries, 0 to 6019842\n",
      "Data columns (total 4 columns):\n",
      "Complaint Type    object\n",
      "Borough           object\n",
      "Street Name       object\n",
      "Incident Zip      float64\n",
      "dtypes: float64(1), object(3)\n",
      "memory usage: 183.7+ MB\n"
     ]
    }
   ],
   "source": [
    "Q2_df.info()"
   ]
  },
  {
   "cell_type": "markdown",
   "metadata": {},
   "source": [
    "## Now we are going show only the complaints that have to do with HEAT/HOT WATER and see which Borough has the most"
   ]
  },
  {
   "cell_type": "code",
   "execution_count": 38,
   "metadata": {},
   "outputs": [
    {
     "data": {
      "text/html": [
       "<div>\n",
       "<style scoped>\n",
       "    .dataframe tbody tr th:only-of-type {\n",
       "        vertical-align: middle;\n",
       "    }\n",
       "\n",
       "    .dataframe tbody tr th {\n",
       "        vertical-align: top;\n",
       "    }\n",
       "\n",
       "    .dataframe thead th {\n",
       "        text-align: right;\n",
       "    }\n",
       "</style>\n",
       "<table border=\"1\" class=\"dataframe\">\n",
       "  <thead>\n",
       "    <tr style=\"text-align: right;\">\n",
       "      <th></th>\n",
       "      <th>Complaint Type</th>\n",
       "      <th>Borough</th>\n",
       "      <th>Street Name</th>\n",
       "      <th>Incident Zip</th>\n",
       "    </tr>\n",
       "  </thead>\n",
       "  <tbody>\n",
       "    <tr>\n",
       "      <th>0</th>\n",
       "      <td>HEAT/HOT WATER</td>\n",
       "      <td>MANHATTAN</td>\n",
       "      <td>WEST   52 STREET</td>\n",
       "      <td>10019.0</td>\n",
       "    </tr>\n",
       "    <tr>\n",
       "      <th>2</th>\n",
       "      <td>HEAT/HOT WATER</td>\n",
       "      <td>QUEENS</td>\n",
       "      <td>37 AVENUE</td>\n",
       "      <td>11372.0</td>\n",
       "    </tr>\n",
       "    <tr>\n",
       "      <th>3</th>\n",
       "      <td>HEAT/HOT WATER</td>\n",
       "      <td>BRONX</td>\n",
       "      <td>SOUTHERN BOULEVARD</td>\n",
       "      <td>10458.0</td>\n",
       "    </tr>\n",
       "    <tr>\n",
       "      <th>5</th>\n",
       "      <td>HEAT/HOT WATER</td>\n",
       "      <td>BRONX</td>\n",
       "      <td>MORRIS AVENUE</td>\n",
       "      <td>10456.0</td>\n",
       "    </tr>\n",
       "    <tr>\n",
       "      <th>7</th>\n",
       "      <td>HEAT/HOT WATER</td>\n",
       "      <td>QUEENS</td>\n",
       "      <td>81 STREET</td>\n",
       "      <td>11372.0</td>\n",
       "    </tr>\n",
       "  </tbody>\n",
       "</table>\n",
       "</div>"
      ],
      "text/plain": [
       "   Complaint Type    Borough         Street Name  Incident Zip\n",
       "0  HEAT/HOT WATER  MANHATTAN    WEST   52 STREET       10019.0\n",
       "2  HEAT/HOT WATER     QUEENS           37 AVENUE       11372.0\n",
       "3  HEAT/HOT WATER      BRONX  SOUTHERN BOULEVARD       10458.0\n",
       "5  HEAT/HOT WATER      BRONX       MORRIS AVENUE       10456.0\n",
       "7  HEAT/HOT WATER     QUEENS           81 STREET       11372.0"
      ]
     },
     "execution_count": 38,
     "metadata": {},
     "output_type": "execute_result"
    }
   ],
   "source": [
    "#drop other complaint types other than Heat/Hot Water (most complaint type)\n",
    "Q2_df = Q2_df[Q2_df['Complaint Type'] == \"HEAT/HOT WATER\"]\n",
    "Q2_df.head()"
   ]
  },
  {
   "cell_type": "code",
   "execution_count": 39,
   "metadata": {},
   "outputs": [
    {
     "data": {
      "text/plain": [
       "BRONX            606133\n",
       "BROOKLYN         574845\n",
       "MANHATTAN        423039\n",
       "Unspecified      282917\n",
       "QUEENS           244122\n",
       "STATEN ISLAND     18368\n",
       "Name: Borough, dtype: int64"
      ]
     },
     "execution_count": 39,
     "metadata": {},
     "output_type": "execute_result"
    }
   ],
   "source": [
    "#now, we can count for borough, street name and incident zip as follows;\n",
    "Q2_df[\"Borough\"].value_counts()"
   ]
  },
  {
   "cell_type": "code",
   "execution_count": 41,
   "metadata": {},
   "outputs": [
    {
     "data": {
      "text/html": [
       "<div>\n",
       "<style scoped>\n",
       "    .dataframe tbody tr th:only-of-type {\n",
       "        vertical-align: middle;\n",
       "    }\n",
       "\n",
       "    .dataframe tbody tr th {\n",
       "        vertical-align: top;\n",
       "    }\n",
       "\n",
       "    .dataframe thead th {\n",
       "        text-align: right;\n",
       "    }\n",
       "</style>\n",
       "<table border=\"1\" class=\"dataframe\">\n",
       "  <thead>\n",
       "    <tr style=\"text-align: right;\">\n",
       "      <th></th>\n",
       "      <th>Complaint Type</th>\n",
       "      <th>Borough</th>\n",
       "      <th>Street Name</th>\n",
       "      <th>Incident Zip</th>\n",
       "    </tr>\n",
       "  </thead>\n",
       "  <tbody>\n",
       "    <tr>\n",
       "      <th>177399</th>\n",
       "      <td>HEAT/HOT WATER</td>\n",
       "      <td>Unspecified</td>\n",
       "      <td>WEST 173 STREET</td>\n",
       "      <td>10032.0</td>\n",
       "    </tr>\n",
       "    <tr>\n",
       "      <th>177400</th>\n",
       "      <td>HEAT/HOT WATER</td>\n",
       "      <td>Unspecified</td>\n",
       "      <td>NEW YORK AVENUE</td>\n",
       "      <td>11210.0</td>\n",
       "    </tr>\n",
       "    <tr>\n",
       "      <th>177401</th>\n",
       "      <td>HEAT/HOT WATER</td>\n",
       "      <td>Unspecified</td>\n",
       "      <td>NEW YORK AVENUE</td>\n",
       "      <td>11210.0</td>\n",
       "    </tr>\n",
       "    <tr>\n",
       "      <th>177402</th>\n",
       "      <td>HEAT/HOT WATER</td>\n",
       "      <td>Unspecified</td>\n",
       "      <td>HOMECREST AVENUE</td>\n",
       "      <td>11235.0</td>\n",
       "    </tr>\n",
       "    <tr>\n",
       "      <th>177403</th>\n",
       "      <td>HEAT/HOT WATER</td>\n",
       "      <td>Unspecified</td>\n",
       "      <td>EAST 115 STREET</td>\n",
       "      <td>10029.0</td>\n",
       "    </tr>\n",
       "  </tbody>\n",
       "</table>\n",
       "</div>"
      ],
      "text/plain": [
       "        Complaint Type      Borough       Street Name  Incident Zip\n",
       "177399  HEAT/HOT WATER  Unspecified   WEST 173 STREET       10032.0\n",
       "177400  HEAT/HOT WATER  Unspecified   NEW YORK AVENUE       11210.0\n",
       "177401  HEAT/HOT WATER  Unspecified   NEW YORK AVENUE       11210.0\n",
       "177402  HEAT/HOT WATER  Unspecified  HOMECREST AVENUE       11235.0\n",
       "177403  HEAT/HOT WATER  Unspecified   EAST 115 STREET       10029.0"
      ]
     },
     "execution_count": 41,
     "metadata": {},
     "output_type": "execute_result"
    }
   ],
   "source": [
    "Q2_df.loc[df_data_3['Borough'] == \"Unspecified\"].head() #see which columns have unspecified boroughs"
   ]
  },
  {
   "cell_type": "markdown",
   "metadata": {},
   "source": [
    "## Visualize HEAT/HOT WATER incidents by Borough"
   ]
  },
  {
   "cell_type": "code",
   "execution_count": 42,
   "metadata": {},
   "outputs": [
    {
     "data": {
      "image/png": "[encoded data removed]",
      "text/plain": [
       "<Figure size 720x432 with 1 Axes>"
      ]
     },
     "metadata": {
      "needs_background": "light"
     },
     "output_type": "display_data"
    }
   ],
   "source": [
    "Q2_df[\"Borough\"].value_counts().plot(kind='bar', figsize=(10, 6))\n",
    "#\n",
    "plt.xlabel('Borough Name') # add to x-label to the plot\n",
    "plt.ylabel('Number of occurance') # add y-label to the plot\n",
    "plt.title('HEAT/HOT WATER Incident Amount by Borough') # add title to the plot\n",
    "#\n",
    "plt.show()"
   ]
  },
  {
   "cell_type": "markdown",
   "metadata": {},
   "source": [
    "## The street with the most HEAT/HOT WATER incidents"
   ]
  },
  {
   "cell_type": "code",
   "execution_count": 43,
   "metadata": {},
   "outputs": [
    {
     "data": {
      "text/plain": [
       "GRAND CONCOURSE    37863\n",
       "BROADWAY           24484\n",
       "OCEAN AVENUE       18716\n",
       "MORRIS AVENUE      16409\n",
       "ARDEN STREET       15963\n",
       "Name: Street Name, dtype: int64"
      ]
     },
     "execution_count": 43,
     "metadata": {},
     "output_type": "execute_result"
    }
   ],
   "source": [
    "#finding the street where HEAT/HOT Water problem occured mostly\n",
    "Q2_df[\"Street Name\"].value_counts().head()"
   ]
  },
  {
   "cell_type": "code",
   "execution_count": 44,
   "metadata": {},
   "outputs": [
    {
     "data": {
      "image/png": "[encoded data removed]",
      "text/plain": [
       "<Figure size 720x432 with 1 Axes>"
      ]
     },
     "metadata": {
      "needs_background": "light"
     },
     "output_type": "display_data"
    }
   ],
   "source": [
    "Q2_df[\"Street Name\"].value_counts().head(10).plot(kind='bar', figsize=(10, 6))\n",
    "#\n",
    "plt.xlabel('Street Name') # add to x-label to the plot\n",
    "plt.ylabel('Number of occurance') # add y-label to the plot\n",
    "plt.title('HEAT/HOT WATER Incident Amount by Street Name') # add title to the plot\n",
    "#\n",
    "plt.show()"
   ]
  },
  {
   "cell_type": "markdown",
   "metadata": {},
   "source": [
    "## Now let's find the ZIP code with the most HEAT/HOT WATER incidents"
   ]
  },
  {
   "cell_type": "code",
   "execution_count": 45,
   "metadata": {},
   "outputs": [
    {
     "data": {
      "text/plain": [
       "11226.0    69041\n",
       "10467.0    66073\n",
       "10458.0    65372\n",
       "10468.0    58190\n",
       "10453.0    57818\n",
       "Name: Incident Zip, dtype: int64"
      ]
     },
     "execution_count": 45,
     "metadata": {},
     "output_type": "execute_result"
    }
   ],
   "source": [
    "#finding the zip number where HEAT/HOT Water problem occured mostly\n",
    "Q2_df[\"Incident Zip\"].value_counts().head()"
   ]
  },
  {
   "cell_type": "code",
   "execution_count": 46,
   "metadata": {},
   "outputs": [
    {
     "data": {
      "image/png": "[encoded data removed]",
      "text/plain": [
       "<Figure size 720x432 with 1 Axes>"
      ]
     },
     "metadata": {
      "needs_background": "light"
     },
     "output_type": "display_data"
    }
   ],
   "source": [
    "Q2_df[\"Incident Zip\"].value_counts().head(10).plot(kind='bar', figsize=(10, 6))\n",
    "#\n",
    "plt.xlabel('Zip Code') # add to x-label to the plot\n",
    "plt.ylabel('Number of occurance') # add y-label to the plot\n",
    "plt.title('HEAT/HOT WATER Incident Amount by Zip Code') # add title to the plot\n",
    "#\n",
    "plt.show()"
   ]
  },
  {
   "cell_type": "code",
   "execution_count": 49,
   "metadata": {},
   "outputs": [
    {
     "data": {
      "text/html": [
       "<div>\n",
       "<style scoped>\n",
       "    .dataframe tbody tr th:only-of-type {\n",
       "        vertical-align: middle;\n",
       "    }\n",
       "\n",
       "    .dataframe tbody tr th {\n",
       "        vertical-align: top;\n",
       "    }\n",
       "\n",
       "    .dataframe thead th {\n",
       "        text-align: right;\n",
       "    }\n",
       "</style>\n",
       "<table border=\"1\" class=\"dataframe\">\n",
       "  <thead>\n",
       "    <tr style=\"text-align: right;\">\n",
       "      <th></th>\n",
       "      <th>Created Date</th>\n",
       "      <th>Closed Date</th>\n",
       "      <th>Complaint Type</th>\n",
       "      <th>Incident Zip</th>\n",
       "      <th>Incident Address</th>\n",
       "      <th>Street Name</th>\n",
       "      <th>Status</th>\n",
       "      <th>Borough</th>\n",
       "      <th>Latitude</th>\n",
       "      <th>Longitude</th>\n",
       "    </tr>\n",
       "  </thead>\n",
       "  <tbody>\n",
       "    <tr>\n",
       "      <th>27</th>\n",
       "      <td>02/02/2020 07:20:04 PM</td>\n",
       "      <td>NaN</td>\n",
       "      <td>WATER LEAK</td>\n",
       "      <td>10458.0</td>\n",
       "      <td>2902 GRAND CONCOURSE</td>\n",
       "      <td>GRAND CONCOURSE</td>\n",
       "      <td>Open</td>\n",
       "      <td>BRONX</td>\n",
       "      <td>40.871149</td>\n",
       "      <td>-73.889257</td>\n",
       "    </tr>\n",
       "    <tr>\n",
       "      <th>63</th>\n",
       "      <td>02/02/2020 11:56:06 PM</td>\n",
       "      <td>NaN</td>\n",
       "      <td>HEAT/HOT WATER</td>\n",
       "      <td>10453.0</td>\n",
       "      <td>2095 GRAND CONCOURSE</td>\n",
       "      <td>GRAND CONCOURSE</td>\n",
       "      <td>Open</td>\n",
       "      <td>BRONX</td>\n",
       "      <td>40.853858</td>\n",
       "      <td>-73.902469</td>\n",
       "    </tr>\n",
       "    <tr>\n",
       "      <th>68</th>\n",
       "      <td>02/02/2020 10:39:56 PM</td>\n",
       "      <td>NaN</td>\n",
       "      <td>HEAT/HOT WATER</td>\n",
       "      <td>10458.0</td>\n",
       "      <td>2664 GRAND CONCOURSE</td>\n",
       "      <td>GRAND CONCOURSE</td>\n",
       "      <td>Open</td>\n",
       "      <td>BRONX</td>\n",
       "      <td>40.866405</td>\n",
       "      <td>-73.894114</td>\n",
       "    </tr>\n",
       "    <tr>\n",
       "      <th>77</th>\n",
       "      <td>02/02/2020 10:49:43 PM</td>\n",
       "      <td>NaN</td>\n",
       "      <td>HEAT/HOT WATER</td>\n",
       "      <td>10468.0</td>\n",
       "      <td>2715 GRAND CONCOURSE</td>\n",
       "      <td>GRAND CONCOURSE</td>\n",
       "      <td>Open</td>\n",
       "      <td>BRONX</td>\n",
       "      <td>40.867480</td>\n",
       "      <td>-73.893320</td>\n",
       "    </tr>\n",
       "    <tr>\n",
       "      <th>78</th>\n",
       "      <td>02/02/2020 10:35:10 PM</td>\n",
       "      <td>NaN</td>\n",
       "      <td>HEAT/HOT WATER</td>\n",
       "      <td>10453.0</td>\n",
       "      <td>2095 GRAND CONCOURSE</td>\n",
       "      <td>GRAND CONCOURSE</td>\n",
       "      <td>Open</td>\n",
       "      <td>BRONX</td>\n",
       "      <td>40.853858</td>\n",
       "      <td>-73.902469</td>\n",
       "    </tr>\n",
       "  </tbody>\n",
       "</table>\n",
       "</div>"
      ],
      "text/plain": [
       "              Created Date Closed Date  Complaint Type  Incident Zip  \\\n",
       "27  02/02/2020 07:20:04 PM         NaN      WATER LEAK       10458.0   \n",
       "63  02/02/2020 11:56:06 PM         NaN  HEAT/HOT WATER       10453.0   \n",
       "68  02/02/2020 10:39:56 PM         NaN  HEAT/HOT WATER       10458.0   \n",
       "77  02/02/2020 10:49:43 PM         NaN  HEAT/HOT WATER       10468.0   \n",
       "78  02/02/2020 10:35:10 PM         NaN  HEAT/HOT WATER       10453.0   \n",
       "\n",
       "        Incident Address      Street Name Status Borough   Latitude  Longitude  \n",
       "27  2902 GRAND CONCOURSE  GRAND CONCOURSE   Open   BRONX  40.871149 -73.889257  \n",
       "63  2095 GRAND CONCOURSE  GRAND CONCOURSE   Open   BRONX  40.853858 -73.902469  \n",
       "68  2664 GRAND CONCOURSE  GRAND CONCOURSE   Open   BRONX  40.866405 -73.894114  \n",
       "77  2715 GRAND CONCOURSE  GRAND CONCOURSE   Open   BRONX  40.867480 -73.893320  \n",
       "78  2095 GRAND CONCOURSE  GRAND CONCOURSE   Open   BRONX  40.853858 -73.902469  "
      ]
     },
     "execution_count": 49,
     "metadata": {},
     "output_type": "execute_result"
    }
   ],
   "source": [
    "df_data_3.loc[df_data_3['Street Name'] == \"GRAND CONCOURSE\"].head()"
   ]
  },
  {
   "cell_type": "code",
   "execution_count": 51,
   "metadata": {},
   "outputs": [
    {
     "data": {
      "text/html": [
       "<div>\n",
       "<style scoped>\n",
       "    .dataframe tbody tr th:only-of-type {\n",
       "        vertical-align: middle;\n",
       "    }\n",
       "\n",
       "    .dataframe tbody tr th {\n",
       "        vertical-align: top;\n",
       "    }\n",
       "\n",
       "    .dataframe thead th {\n",
       "        text-align: right;\n",
       "    }\n",
       "</style>\n",
       "<table border=\"1\" class=\"dataframe\">\n",
       "  <thead>\n",
       "    <tr style=\"text-align: right;\">\n",
       "      <th></th>\n",
       "      <th>Created Date</th>\n",
       "      <th>Closed Date</th>\n",
       "      <th>Complaint Type</th>\n",
       "      <th>Incident Zip</th>\n",
       "      <th>Incident Address</th>\n",
       "      <th>Street Name</th>\n",
       "      <th>Status</th>\n",
       "      <th>Borough</th>\n",
       "      <th>Latitude</th>\n",
       "      <th>Longitude</th>\n",
       "    </tr>\n",
       "  </thead>\n",
       "  <tbody>\n",
       "    <tr>\n",
       "      <th>6</th>\n",
       "      <td>02/02/2020 11:13:42 PM</td>\n",
       "      <td>NaN</td>\n",
       "      <td>GENERAL</td>\n",
       "      <td>11226.0</td>\n",
       "      <td>180 LENOX ROAD</td>\n",
       "      <td>LENOX ROAD</td>\n",
       "      <td>Open</td>\n",
       "      <td>BROOKLYN</td>\n",
       "      <td>40.653911</td>\n",
       "      <td>-73.953804</td>\n",
       "    </tr>\n",
       "    <tr>\n",
       "      <th>14</th>\n",
       "      <td>02/02/2020 04:09:57 PM</td>\n",
       "      <td>NaN</td>\n",
       "      <td>HEAT/HOT WATER</td>\n",
       "      <td>11226.0</td>\n",
       "      <td>297 LENOX ROAD</td>\n",
       "      <td>LENOX ROAD</td>\n",
       "      <td>Open</td>\n",
       "      <td>BROOKLYN</td>\n",
       "      <td>40.654202</td>\n",
       "      <td>-73.949260</td>\n",
       "    </tr>\n",
       "    <tr>\n",
       "      <th>115</th>\n",
       "      <td>02/02/2020 01:41:09 PM</td>\n",
       "      <td>NaN</td>\n",
       "      <td>HEAT/HOT WATER</td>\n",
       "      <td>11226.0</td>\n",
       "      <td>2305 BEDFORD AVENUE</td>\n",
       "      <td>BEDFORD AVENUE</td>\n",
       "      <td>Open</td>\n",
       "      <td>BROOKLYN</td>\n",
       "      <td>40.647447</td>\n",
       "      <td>-73.955697</td>\n",
       "    </tr>\n",
       "    <tr>\n",
       "      <th>125</th>\n",
       "      <td>02/02/2020 02:36:49 PM</td>\n",
       "      <td>NaN</td>\n",
       "      <td>HEAT/HOT WATER</td>\n",
       "      <td>11226.0</td>\n",
       "      <td>1 PARADE PLACE</td>\n",
       "      <td>PARADE PLACE</td>\n",
       "      <td>Open</td>\n",
       "      <td>BROOKLYN</td>\n",
       "      <td>40.653091</td>\n",
       "      <td>-73.966134</td>\n",
       "    </tr>\n",
       "    <tr>\n",
       "      <th>187</th>\n",
       "      <td>02/02/2020 05:07:51 PM</td>\n",
       "      <td>NaN</td>\n",
       "      <td>PLUMBING</td>\n",
       "      <td>11226.0</td>\n",
       "      <td>2505 BEDFORD AVENUE</td>\n",
       "      <td>BEDFORD AVENUE</td>\n",
       "      <td>Open</td>\n",
       "      <td>BROOKLYN</td>\n",
       "      <td>40.642215</td>\n",
       "      <td>-73.954443</td>\n",
       "    </tr>\n",
       "  </tbody>\n",
       "</table>\n",
       "</div>"
      ],
      "text/plain": [
       "               Created Date Closed Date  Complaint Type  Incident Zip  \\\n",
       "6    02/02/2020 11:13:42 PM         NaN         GENERAL       11226.0   \n",
       "14   02/02/2020 04:09:57 PM         NaN  HEAT/HOT WATER       11226.0   \n",
       "115  02/02/2020 01:41:09 PM         NaN  HEAT/HOT WATER       11226.0   \n",
       "125  02/02/2020 02:36:49 PM         NaN  HEAT/HOT WATER       11226.0   \n",
       "187  02/02/2020 05:07:51 PM         NaN        PLUMBING       11226.0   \n",
       "\n",
       "        Incident Address     Street Name Status   Borough   Latitude  \\\n",
       "6         180 LENOX ROAD      LENOX ROAD   Open  BROOKLYN  40.653911   \n",
       "14        297 LENOX ROAD      LENOX ROAD   Open  BROOKLYN  40.654202   \n",
       "115  2305 BEDFORD AVENUE  BEDFORD AVENUE   Open  BROOKLYN  40.647447   \n",
       "125       1 PARADE PLACE    PARADE PLACE   Open  BROOKLYN  40.653091   \n",
       "187  2505 BEDFORD AVENUE  BEDFORD AVENUE   Open  BROOKLYN  40.642215   \n",
       "\n",
       "     Longitude  \n",
       "6   -73.953804  \n",
       "14  -73.949260  \n",
       "115 -73.955697  \n",
       "125 -73.966134  \n",
       "187 -73.954443  "
      ]
     },
     "execution_count": 51,
     "metadata": {},
     "output_type": "execute_result"
    }
   ],
   "source": [
    "df_data_3.loc[df_data_3['Incident Zip'] == 11226.0].head()"
   ]
  },
  {
   "cell_type": "code",
   "execution_count": 52,
   "metadata": {},
   "outputs": [],
   "source": [
    "#CONCLUDING REMARKS\n",
    "#BRONX is the borough which has the most HEAT/HOT WATER incident with 606133 incidents and BROOKLYN is following with 574845 incidents.\n",
    "#GRAND CONCOURSE is the street which has the most HEAT/HOT WATER incident with 37863 incidents. GRAND CONCOURSE street is in BRONX\n",
    "#11226 is the Zip Code which has the most HEAT/HOT WATER incident with 69041 incidents and it belongs to BROOKLYN"
   ]
  },
  {
   "cell_type": "markdown",
   "metadata": {},
   "source": [
    "## CONCLUDING REMARKS "
   ]
  },
  {
   "cell_type": "markdown",
   "metadata": {},
   "source": [
    "Bronx is the borough which has the most HEAT/HOT WATER incident with 606133 incidents and Brooklyn is following with 574845 incidents.\n",
    "\n",
    "Grand Concourse is the street which has the most HEAT/HOT WATER incident with 37863 incidents. Grand Concourse street is in Bronx.\n",
    "\n",
    "11226 is the Zip Code which has the most HEAT/HOT WATER incident with 69041 incidents and it belongs to Brooklyn"
   ]
  }
 ],
 "metadata": {
  "kernelspec": {
   "display_name": "Python 3",
   "language": "python",
   "name": "python3"
  },
  "language_info": {
   "codemirror_mode": {
    "name": "ipython",
    "version": 3
   },
   "file_extension": ".py",
   "mimetype": "text/x-python",
   "name": "python",
   "nbconvert_exporter": "python",
   "pygments_lexer": "ipython3",
   "version": "3.7.6"
  }
 },
 "nbformat": 4,
 "nbformat_minor": 1
}
